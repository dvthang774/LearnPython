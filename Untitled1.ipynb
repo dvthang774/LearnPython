{
  "nbformat": 4,
  "nbformat_minor": 0,
  "metadata": {
    "colab": {
      "name": "Untitled1.ipynb",
      "provenance": [],
      "collapsed_sections": [],
      "authorship_tag": "ABX9TyP9D5wkn+nzLrXxq/UVOiu9",
      "include_colab_link": true
    },
    "kernelspec": {
      "name": "python3",
      "display_name": "Python 3"
    }
  },
  "cells": [
    {
      "cell_type": "markdown",
      "metadata": {
        "id": "view-in-github",
        "colab_type": "text"
      },
      "source": [
        "<a href=\"https://colab.research.google.com/github/dvthang774/LearnPython/blob/main/Untitled1.ipynb\" target=\"_parent\"><img src=\"https://colab.research.google.com/assets/colab-badge.svg\" alt=\"Open In Colab\"/></a>"
      ]
    },
    {
      "cell_type": "code",
      "metadata": {
        "colab": {
          "base_uri": "https://localhost:8080/"
        },
        "id": "3op0c-CKN7ww",
        "outputId": "71fbd1f7-35fe-4c11-ccbd-e78c3f21ee76"
      },
      "source": [
        "import numpy as np\r\n",
        "import random\r\n",
        "\r\n",
        "\r\n",
        "m = int(input('mời nhập: '))\r\n",
        "n = int(input('mời nhập: '))\r\n",
        "p = int(input('mời nhập: '))\r\n",
        "3\r\n",
        "def matran(m,n):\r\n",
        "    matrix = np.random.randint(0,9, size=(m,n))\r\n",
        "    return matrix\r\n",
        "\r\n",
        "a = matran(m,n)\r\n",
        "b = matran(n,p)\r\n",
        "\r\n",
        "def toan_tu_ma_tran(a):\r\n",
        "    cong = a+b\r\n",
        "    tru = a-b\r\n",
        "    nhan = a*b\r\n",
        "    return cong, tru, nhan\r\n",
        "\r\n",
        "\r\n",
        "print(a)\r\n",
        "print(b)\r\n",
        "print(\"Cộng hai ma trận A và B:\\n\", toan_tu_ma_tran(a)[0])\r\n",
        "print(\"Trừ hai ma trận A và B:\\n\",toan_tu_ma_tran(a)[1] )\r\n",
        "print(\"Nhân hai ma trận A và B:\\n\",toan_tu_ma_tran(a)[2])\r\n",
        "print('Ma trận chuyển vị của A:\\n', np.transpose(a))\r\n"
      ],
      "execution_count": 14,
      "outputs": [
        {
          "output_type": "stream",
          "text": [
            "mời nhập: 3\n",
            "mời nhập: 3\n",
            "mời nhập: 3\n",
            "[[1 7 8]\n",
            " [1 2 7]\n",
            " [0 4 8]]\n",
            "[[6 8 0]\n",
            " [1 4 2]\n",
            " [3 8 5]]\n",
            "Cộng hai ma trận A và B:\n",
            " [[ 7 15  8]\n",
            " [ 2  6  9]\n",
            " [ 3 12 13]]\n",
            "Trừ hai ma trận A và B:\n",
            " [[-5 -1  8]\n",
            " [ 0 -2  5]\n",
            " [-3 -4  3]]\n",
            "Nhân hai ma trận A và B:\n",
            " [[ 6 56  0]\n",
            " [ 1  8 14]\n",
            " [ 0 32 40]]\n",
            "Ma trận chuyển vị của A:\n",
            " [[1 1 0]\n",
            " [7 2 4]\n",
            " [8 7 8]]\n"
          ],
          "name": "stdout"
        }
      ]
    }
  ]
}