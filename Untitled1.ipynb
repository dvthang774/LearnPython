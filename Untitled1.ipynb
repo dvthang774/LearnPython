{
  "nbformat": 4,
  "nbformat_minor": 0,
  "metadata": {
    "colab": {
      "name": "Untitled1.ipynb",
      "provenance": [],
      "collapsed_sections": [],
      "authorship_tag": "ABX9TyMa+jvUESHfD6eAUHNoCpdh",
      "include_colab_link": true
    },
    "kernelspec": {
      "name": "python3",
      "display_name": "Python 3"
    }
  },
  "cells": [
    {
      "cell_type": "markdown",
      "metadata": {
        "id": "view-in-github",
        "colab_type": "text"
      },
      "source": [
        "<a href=\"https://colab.research.google.com/github/dvthang774/LearnPython/blob/main/Untitled1.ipynb\" target=\"_parent\"><img src=\"https://colab.research.google.com/assets/colab-badge.svg\" alt=\"Open In Colab\"/></a>"
      ]
    },
    {
      "cell_type": "code",
      "metadata": {
        "colab": {
          "base_uri": "https://localhost:8080/"
        },
        "id": "3op0c-CKN7ww",
        "outputId": "0561167e-47ed-45c8-8a03-6233e1cbcddb"
      },
      "source": [
        "import numpy as np\r\n",
        "import random\r\n",
        "\r\n",
        "\r\n",
        "m = int(input('mời nhập: '))\r\n",
        "n = int(input('mời nhập: '))\r\n",
        "p = int(input('mời nhập: '))\r\n",
        "3\r\n",
        "def matran(m,n):\r\n",
        "    matrix = np.random.randint(0,9, size=(m,n))\r\n",
        "    return matrix\r\n",
        "\r\n",
        "a = matran(m,n)\r\n",
        "b = matran(n,p)\r\n",
        "\r\n",
        "def toan_tu_ma_tran(a):\r\n",
        "    cong = a+b\r\n",
        "    tru = a-b\r\n",
        "    nhan = a*b\r\n",
        "    return cong, tru, nhan\r\n",
        "\r\n",
        "\r\n",
        "print(a)\r\n",
        "print(b)\r\n",
        "print(\"Cộng hai ma trận A và B:\\n\", toan_tu_ma_tran(a)[0])\r\n",
        "print(\"Trừ hai ma trận A và B:\\n\",toan_tu_ma_tran(a)[1] )\r\n",
        "print(\"Nhân hai ma trận A và B:\\n\",toan_tu_ma_tran(a)[2])\r\n"
      ],
      "execution_count": 12,
      "outputs": [
        {
          "output_type": "stream",
          "text": [
            "mời nhập: 3\n",
            "mời nhập: 3\n",
            "mời nhập: 3\n",
            "[[3 7 7]\n",
            " [8 1 0]\n",
            " [1 6 5]]\n",
            "[[2 4 5]\n",
            " [5 1 0]\n",
            " [2 8 1]]\n",
            "Cộng hai ma trận A và B:\n",
            " [[ 5 11 12]\n",
            " [13  2  0]\n",
            " [ 3 14  6]]\n",
            "Trừ hai ma trận A và B:\n",
            " [[ 1  3  2]\n",
            " [ 3  0  0]\n",
            " [-1 -2  4]]\n",
            "Nhân hai ma trận A và B:\n",
            " [[ 6 28 35]\n",
            " [40  1  0]\n",
            " [ 2 48  5]]\n"
          ],
          "name": "stdout"
        }
      ]
    }
  ]
}